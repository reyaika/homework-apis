{
 "cells": [
  {
   "cell_type": "code",
   "execution_count": null,
   "id": "b97ff145-e80a-4d25-970f-2ce9e892bbe9",
   "metadata": {},
   "outputs": [],
   "source": [
    "# June 10, 2025\n",
    "# Homework 5 Part One"
   ]
  },
  {
   "cell_type": "markdown",
   "id": "da3e179f-b0ff-489a-880a-542d165efc50",
   "metadata": {},
   "source": [
    "# Geocoding with libraries or APIs"
   ]
  },
  {
   "cell_type": "markdown",
   "id": "064a108d-a013-4919-ac68-bacc4e5d5cbe",
   "metadata": {},
   "source": [
    "# Read in our addresses\n",
    "\n",
    "We'll never ever ever read in data like this again. But we'll do it now, because we love lists of dictionaries.\n",
    "\n",
    "- ***Tip:** If you get a file not found error, make sure the `addresses.csv` is in the same location as this Jupyter notebook. Maybe do `!pwd` to see where the notebook is!*"
   ]
  },
  {
   "cell_type": "code",
   "execution_count": 10,
   "id": "447f6dd0-27c9-41b1-a6bc-68278aed9b3e",
   "metadata": {},
   "outputs": [
    {
     "data": {
      "text/plain": [
       "[{'street': '100 Ihwajang-gil',\n",
       "  'city': 'Ihwa-dong',\n",
       "  'state': 'Jongno District',\n",
       "  'postal_code': 'Seoul',\n",
       "  'country': 'South Korea'},\n",
       " {'street': '4 Chome-1-1 Shimomeguro',\n",
       "  'city': ' Meguro City',\n",
       "  'state': 'Tokyo',\n",
       "  'postal_code': '153-0064',\n",
       "  'country': 'Japan'},\n",
       " {'street': '1126 Green Giant Ln',\n",
       "  'city': 'Blue Earth',\n",
       "  'state': 'MN',\n",
       "  'postal_code': '56013',\n",
       "  'country': ''},\n",
       " {'street': '7477 Hubbard Ave',\n",
       "  'city': 'Middleton',\n",
       "  'state': 'WI',\n",
       "  'postal_code': '53562',\n",
       "  'country': None},\n",
       " {'street': 'Wrocławska 12',\n",
       "  'city': '',\n",
       "  'state': 'Poznań',\n",
       "  'postal_code': '61-838',\n",
       "  'country': 'Poland'}]"
      ]
     },
     "execution_count": 10,
     "metadata": {},
     "output_type": "execute_result"
    }
   ],
   "source": [
    "import csv\n",
    "\n",
    "with open('addresses.csv') as fp:\n",
    "    data = list(csv.DictReader(fp))\n",
    "\n",
    "data"
   ]
  },
  {
   "cell_type": "markdown",
   "id": "30f80328-6f00-45a5-9100-6872f4ee54e4",
   "metadata": {},
   "source": [
    "## Create the full addresses\n",
    "\n",
    "Loop through the list, creating a new `address` variable that includes the street, city, state, postal code and country. For now, just print it out.\n",
    "\n",
    "- ***Tip:** You can go really really far in crafting a perfect address for each result, but you might not need to.*\n",
    "- ***Tip:** You aren't making a list of addresses! Just printing it out.*"
   ]
  },
  {
   "cell_type": "code",
   "execution_count": 11,
   "id": "94aa130f-4e06-4bb3-ba71-c1b15e2f1c50",
   "metadata": {},
   "outputs": [
    {
     "name": "stdout",
     "output_type": "stream",
     "text": [
      "100 Ihwajang-gil, Ihwa-dong, Jongno District, Seoul, South Korea\n",
      "4 Chome-1-1 Shimomeguro,  Meguro City, Tokyo, 153-0064, Japan\n",
      "1126 Green Giant Ln, Blue Earth, MN, 56013, United States\n",
      "7477 Hubbard Ave, Middleton, WI, 53562, United States\n",
      "Wrocławska 12, , Poznań, 61-838, Poland\n"
     ]
    }
   ],
   "source": [
    "for address in data:\n",
    "    if address['country'] is None or address['country'] == '':\n",
    "        address['country'] = 'United States'\n",
    "    full_address = f\"{address['street']}, {address['city']}, {address['state']}, {address['postal_code']}, {address['country']}\"\n",
    "    print(full_address)"
   ]
  },
  {
   "cell_type": "markdown",
   "id": "8956fdf3-4b2d-4a49-8718-9692417a714e",
   "metadata": {},
   "source": [
    "## Geocode the address\n",
    "\n",
    "**Copy and paste the code from above into the cell below,** it will be your starting point.\n",
    "\n",
    "At the end of this step, you should have a list of dictionaries with two new keys: **lat** and **lon**, that are the latitude and longitude of the address. Gecode the addresses using either Google's geocoding API directly or the Geocoder library. You can use my API key: ``\n",
    "\n",
    "- Google geocoding API documentation: https://developers.google.com/maps/documentation/geocoding/requests-geocoding\n",
    "- Geocoder documentation: https://geocoder.readthedocs.io/\n",
    "\n",
    "**You can also try another geocoder if you'd like!** I would have liked to *demand* a different API but hey it's 1:43PM and you need this homework *now*.\n",
    "\n",
    "**Tips:**\n",
    "\n",
    "* *What order are lat and long in???*\n",
    "* *You can do this by creating 100% new list of dicts or updating the old one inside of the loop.*"
   ]
  },
  {
   "cell_type": "code",
   "execution_count": 12,
   "id": "484927a7",
   "metadata": {},
   "outputs": [
    {
     "data": {
      "text/plain": [
       "True"
      ]
     },
     "execution_count": 12,
     "metadata": {},
     "output_type": "execute_result"
    }
   ],
   "source": [
    "from dotenv import load_dotenv\n",
    "import os\n",
    "\n",
    "load_dotenv()"
   ]
  },
  {
   "cell_type": "code",
   "execution_count": 13,
   "id": "32cd8ef9-b3ea-4a32-bca6-8394b0cac54d",
   "metadata": {},
   "outputs": [
    {
     "name": "stdout",
     "output_type": "stream",
     "text": [
      "{'street': '100 Ihwajang-gil', 'city': 'Ihwa-dong', 'state': 'Jongno District', 'postal_code': 'Seoul', 'country': 'South Korea', 'lat': 37.5798019, 'long': 127.0046643}\n",
      "{'street': '4 Chome-1-1 Shimomeguro', 'city': ' Meguro City', 'state': 'Tokyo', 'postal_code': '153-0064', 'country': 'Japan', 'lat': 35.6317048, 'long': 139.706685}\n",
      "{'street': '1126 Green Giant Ln', 'city': 'Blue Earth', 'state': 'MN', 'postal_code': '56013', 'country': 'United States', 'lat': 43.650971, 'long': -94.09567899999999}\n",
      "{'street': '7477 Hubbard Ave', 'city': 'Middleton', 'state': 'WI', 'postal_code': '53562', 'country': 'United States', 'lat': 43.0952876, 'long': -89.51123369999999}\n",
      "{'street': 'Wrocławska 12', 'city': '', 'state': 'Poznań', 'postal_code': '61-838', 'country': 'Poland', 'lat': 52.4065344, 'long': 16.9327697}\n"
     ]
    }
   ],
   "source": [
    "# Copy and paste the code from the \"Create the full addresses\" section\n",
    "\n",
    "import geocoder\n",
    "\n",
    "api_key_geo = os.getenv(\"api_key_geo\")\n",
    "\n",
    "for address in data:\n",
    "    full_address = f\"{address['street']}, {address['city']}, {address['state']}, {address['postal_code']}, {address['country']}\"\n",
    "    g = geocoder.google(full_address, key=api_key_geo)\n",
    "    if g.ok:\n",
    "        address['lat'] = g.latlng[0]\n",
    "        address['long'] = g.latlng[1]\n",
    "        print(address)"
   ]
  },
  {
   "cell_type": "markdown",
   "id": "c38140c2-58dc-45d0-975b-a58fb01a72d6",
   "metadata": {},
   "source": [
    "## Save the results\n",
    "\n",
    "This is so embarrassing to be doing it like this but we're doing it anyway. **Pay attention to your key names for latitude and longitude.**"
   ]
  },
  {
   "cell_type": "code",
   "execution_count": 14,
   "id": "31a38fc9-1a28-4ddb-8995-f2e2fa692217",
   "metadata": {},
   "outputs": [],
   "source": [
    "import csv\n",
    "\n",
    "with open('addresses-geocoded.csv', 'w') as fp:\n",
    "    fieldnames=['street','city','state','postal_code','country','lat', 'long']\n",
    "\n",
    "    writer = csv.DictWriter(fp, fieldnames=fieldnames)\n",
    "    writer.writeheader()\n",
    "    for row in data:\n",
    "        writer.writerow(row)"
   ]
  }
 ],
 "metadata": {
  "kernelspec": {
   "display_name": "Python 3 (ipykernel)",
   "language": "python",
   "name": "python3"
  },
  "language_info": {
   "codemirror_mode": {
    "name": "ipython",
    "version": 3
   },
   "file_extension": ".py",
   "mimetype": "text/x-python",
   "name": "python",
   "nbconvert_exporter": "python",
   "pygments_lexer": "ipython3",
   "version": "3.12.0"
  }
 },
 "nbformat": 4,
 "nbformat_minor": 5
}
